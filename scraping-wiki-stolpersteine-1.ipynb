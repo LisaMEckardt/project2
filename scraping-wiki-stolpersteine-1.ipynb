{
 "cells": [
  {
   "cell_type": "markdown",
   "id": "0fb4742e-d7c6-4d42-877a-a51a7475aab2",
   "metadata": {},
   "source": [
    "# Scraping Wikipedia about Stolpersteine in Hamburg (Germany, Europe)"
   ]
  },
  {
   "cell_type": "markdown",
   "id": "4391c276-013e-4cf0-adba-6cd1994f491e",
   "metadata": {},
   "source": [
    "#### In the first draft this project will be about the city of Hamburg where I live – and I am starting in my own neighborhood in the borough Wilhelmsburg\n",
    "#### Later on I want to expand my project to every city of Germany and every other place where you can find them"
   ]
  },
  {
   "cell_type": "code",
   "execution_count": 1,
   "id": "02f8d63e-2087-4913-a3b3-bc564595d35f",
   "metadata": {},
   "outputs": [],
   "source": [
    "import requests\n",
    "from bs4 import BeautifulSoup\n",
    "import pandas as pd"
   ]
  },
  {
   "cell_type": "code",
   "execution_count": 68,
   "id": "8a5f878d-9c1b-4b28-83f9-cfa27bb16d4e",
   "metadata": {},
   "outputs": [],
   "source": [
    "url_Wilhelmsburg = \"https://de.wikipedia.org/wiki/Liste_der_Stolpersteine_in_Hamburg-Wilhelmsburg\"\n",
    "html = requests.get(url_Wilhelmsburg).text"
   ]
  },
  {
   "cell_type": "code",
   "execution_count": 70,
   "id": "be490c6d-33f1-413f-8353-86f77d7755c1",
   "metadata": {},
   "outputs": [],
   "source": [
    "html = html.replace(\"<br /><b>\", \" \")\n",
    "html = html.replace(\"</b><br />\", \" \")\n",
    "html = html.replace(\"<br />\", \" \")"
   ]
  },
  {
   "cell_type": "code",
   "execution_count": 71,
   "id": "6eb8163e-f0e7-4fc9-a458-194f22e66caa",
   "metadata": {},
   "outputs": [],
   "source": [
    "soup = BeautifulSoup(html)"
   ]
  },
  {
   "cell_type": "markdown",
   "id": "7f8fb2df-62e7-49d3-9164-85e85148b9d3",
   "metadata": {},
   "source": [
    "# 1. Select table"
   ]
  },
  {
   "cell_type": "code",
   "execution_count": 99,
   "id": "31cfc251-88e6-41a6-a896-a9c3543f6bdb",
   "metadata": {},
   "outputs": [
    {
     "name": "stdout",
     "output_type": "stream",
     "text": [
      "\n",
      "\n",
      "Adresse\n",
      "\n",
      "Person(en)\n",
      "\n",
      "Inschrift\n",
      "\n",
      "Bilder\n",
      "\n",
      "Anmerkung\n",
      "\n",
      "\n",
      "Ilenbrook 14 \n",
      "\n",
      "Bruno Schulz\n",
      "\n",
      "Hier wohnte Bruno\n"
     ]
    }
   ],
   "source": [
    "table = soup.select(\"table.wikitable\")[0]\n",
    "print(table.text[:100])"
   ]
  },
  {
   "cell_type": "markdown",
   "id": "6d1b1472-e300-476a-97a1-86b43921d852",
   "metadata": {},
   "source": [
    "# 2. Select header columns"
   ]
  },
  {
   "cell_type": "code",
   "execution_count": 73,
   "id": "53557379-c6b0-4c00-9fad-801123b0e5bf",
   "metadata": {},
   "outputs": [],
   "source": [
    "header_el = table.select(\"tr\")[0]"
   ]
  },
  {
   "cell_type": "code",
   "execution_count": 74,
   "id": "9e8060cd-5191-4119-a2fb-0f1e724140a5",
   "metadata": {},
   "outputs": [
    {
     "data": {
      "text/plain": [
       "['Adresse', 'Person(en)', 'Inschrift', 'Bilder', 'Anmerkung']"
      ]
     },
     "execution_count": 74,
     "metadata": {},
     "output_type": "execute_result"
    }
   ],
   "source": [
    "columns = []\n",
    "for cell in header_el.select(\"th\"):\n",
    "     columns.append(cell.text.strip())\n",
    "        \n",
    "columns"
   ]
  },
  {
   "cell_type": "code",
   "execution_count": 75,
   "id": "e84897ec-67f4-4643-8254-1e6a5bc64331",
   "metadata": {},
   "outputs": [
    {
     "data": {
      "text/plain": [
       "['Adresse', 'Person(en)', 'Inschrift', 'Bilder', 'Anmerkung']"
      ]
     },
     "execution_count": 75,
     "metadata": {},
     "output_type": "execute_result"
    }
   ],
   "source": [
    "## list comprehension:\n",
    "\n",
    "columns = [ cell.text.strip()\n",
    "    for cell in header_el.select(\"th\") ]\n",
    "\n",
    "columns"
   ]
  },
  {
   "cell_type": "markdown",
   "id": "c19ca039-42ab-47db-83d0-d5f0b4661d5f",
   "metadata": {},
   "source": [
    "# 3. Select rows"
   ]
  },
  {
   "cell_type": "code",
   "execution_count": 76,
   "id": "485b4521-2f97-4c23-8be7-d679953f5c78",
   "metadata": {},
   "outputs": [
    {
     "data": {
      "text/plain": [
       "22"
      ]
     },
     "execution_count": 76,
     "metadata": {},
     "output_type": "execute_result"
    }
   ],
   "source": [
    "row_els = table.select(\"tr\")[1:]\n",
    "len(row_els)"
   ]
  },
  {
   "cell_type": "code",
   "execution_count": 77,
   "id": "3f66d8fb-3df7-4177-8dca-10c124e72a24",
   "metadata": {},
   "outputs": [
    {
     "data": {
      "text/plain": [
       "[['Ilenbrook 14',\n",
       "  'Bruno Schulz',\n",
       "  'Hier wohnte Bruno Schulz Jg. 1912 verhaftet 1939 KZ Fuhlsbüttel KZ Neuengamme ermordet 8.2.1943',\n",
       "  '',\n",
       "  'Eintrag auf stolpersteine-hamburg.de'],\n",
       " ['Industriestraße 160',\n",
       "  'Edith Eggers geb. Libis',\n",
       "  'Hier wohnte Edith Eggers geb. Libis Jg. 1908 deportiert 1941 Minsk ???',\n",
       "  '',\n",
       "  'Eintrag auf stolpersteine-hamburg.de am Zugang zur Parkanlage am Ende der Karl-Kunert-Straße']]"
      ]
     },
     "execution_count": 77,
     "metadata": {},
     "output_type": "execute_result"
    }
   ],
   "source": [
    "rows = []\n",
    "\n",
    "for row in row_els:\n",
    "    cells = []\n",
    "    for cell in row.select(\"td\"):  \n",
    "        cells.append(cell.text.strip())\n",
    "    rows.append(cells)\n",
    "    \n",
    "rows[:2]"
   ]
  },
  {
   "cell_type": "code",
   "execution_count": 78,
   "id": "e5586961-1cec-4db2-827c-70e14fe55109",
   "metadata": {},
   "outputs": [
    {
     "data": {
      "text/plain": [
       "[['Ilenbrook 14',\n",
       "  'Bruno Schulz',\n",
       "  'Hier wohnte Bruno Schulz Jg. 1912 verhaftet 1939 KZ Fuhlsbüttel KZ Neuengamme ermordet 8.2.1943',\n",
       "  '',\n",
       "  'Eintrag auf stolpersteine-hamburg.de'],\n",
       " ['Industriestraße 160',\n",
       "  'Edith Eggers geb. Libis',\n",
       "  'Hier wohnte Edith Eggers geb. Libis Jg. 1908 deportiert 1941 Minsk ???',\n",
       "  '',\n",
       "  'Eintrag auf stolpersteine-hamburg.de am Zugang zur Parkanlage am Ende der Karl-Kunert-Straße']]"
      ]
     },
     "execution_count": 78,
     "metadata": {},
     "output_type": "execute_result"
    }
   ],
   "source": [
    "## list comprehension\n",
    "\n",
    "rows = [\n",
    "    [ cell.text.strip() for cell in row.select(\"td\") ]\n",
    "    for row in row_els ]\n",
    "\n",
    "rows[:2]"
   ]
  },
  {
   "cell_type": "markdown",
   "id": "5469706e-2d3b-49d3-9ff5-ca2823dab70a",
   "metadata": {},
   "source": [
    "# 4. Turn data into data frame"
   ]
  },
  {
   "cell_type": "code",
   "execution_count": 92,
   "id": "0ed9db46-871a-4016-aabf-b16cc74cf302",
   "metadata": {},
   "outputs": [
    {
     "data": {
      "text/html": [
       "<div>\n",
       "<style scoped>\n",
       "    .dataframe tbody tr th:only-of-type {\n",
       "        vertical-align: middle;\n",
       "    }\n",
       "\n",
       "    .dataframe tbody tr th {\n",
       "        vertical-align: top;\n",
       "    }\n",
       "\n",
       "    .dataframe thead th {\n",
       "        text-align: right;\n",
       "    }\n",
       "</style>\n",
       "<table border=\"1\" class=\"dataframe\">\n",
       "  <thead>\n",
       "    <tr style=\"text-align: right;\">\n",
       "      <th></th>\n",
       "      <th>Adresse</th>\n",
       "      <th>Person(en)</th>\n",
       "      <th>Inschrift</th>\n",
       "      <th>Bilder</th>\n",
       "      <th>Anmerkung</th>\n",
       "    </tr>\n",
       "  </thead>\n",
       "  <tbody>\n",
       "    <tr>\n",
       "      <th>0</th>\n",
       "      <td>Ilenbrook 14</td>\n",
       "      <td>Bruno Schulz</td>\n",
       "      <td>Hier wohnte Bruno Schulz Jg. 1912 verhaftet 19...</td>\n",
       "      <td></td>\n",
       "      <td>Eintrag auf stolpersteine-hamburg.de</td>\n",
       "    </tr>\n",
       "    <tr>\n",
       "      <th>1</th>\n",
       "      <td>Industriestraße 160</td>\n",
       "      <td>Edith Eggers geb. Libis</td>\n",
       "      <td>Hier wohnte Edith Eggers geb. Libis Jg. 1908 d...</td>\n",
       "      <td></td>\n",
       "      <td>Eintrag auf stolpersteine-hamburg.de am Zugang...</td>\n",
       "    </tr>\n",
       "    <tr>\n",
       "      <th>2</th>\n",
       "      <td>Industriestraße 160</td>\n",
       "      <td>Frida Libis geb. Blumann</td>\n",
       "      <td>Hier wohnte Frida Libis geb. Blumann Jg. 1878 ...</td>\n",
       "      <td></td>\n",
       "      <td>Eintrag auf stolpersteine-hamburg.de am Zugang...</td>\n",
       "    </tr>\n",
       "    <tr>\n",
       "      <th>3</th>\n",
       "      <td>Industriestraße 160</td>\n",
       "      <td>Siegmund Libis</td>\n",
       "      <td>Hier wohnte Siegmund Libis Jg. 1878 deportiert...</td>\n",
       "      <td></td>\n",
       "      <td>Eintrag auf stolpersteine-hamburg.de am Zugang...</td>\n",
       "    </tr>\n",
       "    <tr>\n",
       "      <th>4</th>\n",
       "      <td>Kunertweg 5</td>\n",
       "      <td>Martin Furmanek</td>\n",
       "      <td>Hier wohnte Martin Furmanek Jg. 1877 hingerich...</td>\n",
       "      <td></td>\n",
       "      <td>Eintrag auf stolpersteine-hamburg.de</td>\n",
       "    </tr>\n",
       "  </tbody>\n",
       "</table>\n",
       "</div>"
      ],
      "text/plain": [
       "               Adresse                Person(en)  \\\n",
       "0         Ilenbrook 14              Bruno Schulz   \n",
       "1  Industriestraße 160   Edith Eggers geb. Libis   \n",
       "2  Industriestraße 160  Frida Libis geb. Blumann   \n",
       "3  Industriestraße 160            Siegmund Libis   \n",
       "4          Kunertweg 5           Martin Furmanek   \n",
       "\n",
       "                                           Inschrift Bilder  \\\n",
       "0  Hier wohnte Bruno Schulz Jg. 1912 verhaftet 19...          \n",
       "1  Hier wohnte Edith Eggers geb. Libis Jg. 1908 d...          \n",
       "2  Hier wohnte Frida Libis geb. Blumann Jg. 1878 ...          \n",
       "3  Hier wohnte Siegmund Libis Jg. 1878 deportiert...          \n",
       "4  Hier wohnte Martin Furmanek Jg. 1877 hingerich...          \n",
       "\n",
       "                                           Anmerkung  \n",
       "0               Eintrag auf stolpersteine-hamburg.de  \n",
       "1  Eintrag auf stolpersteine-hamburg.de am Zugang...  \n",
       "2  Eintrag auf stolpersteine-hamburg.de am Zugang...  \n",
       "3  Eintrag auf stolpersteine-hamburg.de am Zugang...  \n",
       "4               Eintrag auf stolpersteine-hamburg.de  "
      ]
     },
     "execution_count": 92,
     "metadata": {},
     "output_type": "execute_result"
    }
   ],
   "source": [
    "df = pd.DataFrame(rows, columns=columns)\n",
    "df.head()"
   ]
  },
  {
   "cell_type": "code",
   "execution_count": 80,
   "id": "3e67c489-05fe-4a71-86b4-13663115611d",
   "metadata": {},
   "outputs": [
    {
     "data": {
      "text/html": [
       "<div>\n",
       "<style scoped>\n",
       "    .dataframe tbody tr th:only-of-type {\n",
       "        vertical-align: middle;\n",
       "    }\n",
       "\n",
       "    .dataframe tbody tr th {\n",
       "        vertical-align: top;\n",
       "    }\n",
       "\n",
       "    .dataframe thead th {\n",
       "        text-align: right;\n",
       "    }\n",
       "</style>\n",
       "<table border=\"1\" class=\"dataframe\">\n",
       "  <thead>\n",
       "    <tr style=\"text-align: right;\">\n",
       "      <th></th>\n",
       "      <th>Adresse</th>\n",
       "      <th>Person(en)</th>\n",
       "      <th>Inschrift</th>\n",
       "      <th>Bilder</th>\n",
       "      <th>Anmerkung</th>\n",
       "    </tr>\n",
       "  </thead>\n",
       "  <tbody>\n",
       "    <tr>\n",
       "      <th>count</th>\n",
       "      <td>22</td>\n",
       "      <td>22</td>\n",
       "      <td>22</td>\n",
       "      <td>22</td>\n",
       "      <td>22</td>\n",
       "    </tr>\n",
       "    <tr>\n",
       "      <th>unique</th>\n",
       "      <td>10</td>\n",
       "      <td>21</td>\n",
       "      <td>22</td>\n",
       "      <td>1</td>\n",
       "      <td>9</td>\n",
       "    </tr>\n",
       "    <tr>\n",
       "      <th>top</th>\n",
       "      <td>Rotenhäuser Straße 67</td>\n",
       "      <td>Hermine Baron geb. Löw</td>\n",
       "      <td>Hier wohnte Bruno Schulz Jg. 1912 verhaftet 19...</td>\n",
       "      <td></td>\n",
       "      <td>Eintrag auf stolpersteine-hamburg.de</td>\n",
       "    </tr>\n",
       "    <tr>\n",
       "      <th>freq</th>\n",
       "      <td>4</td>\n",
       "      <td>2</td>\n",
       "      <td>1</td>\n",
       "      <td>22</td>\n",
       "      <td>10</td>\n",
       "    </tr>\n",
       "  </tbody>\n",
       "</table>\n",
       "</div>"
      ],
      "text/plain": [
       "                      Adresse              Person(en)  \\\n",
       "count                      22                      22   \n",
       "unique                     10                      21   \n",
       "top     Rotenhäuser Straße 67  Hermine Baron geb. Löw   \n",
       "freq                        4                       2   \n",
       "\n",
       "                                                Inschrift Bilder  \\\n",
       "count                                                  22     22   \n",
       "unique                                                 22      1   \n",
       "top     Hier wohnte Bruno Schulz Jg. 1912 verhaftet 19...          \n",
       "freq                                                    1     22   \n",
       "\n",
       "                                   Anmerkung  \n",
       "count                                     22  \n",
       "unique                                     9  \n",
       "top     Eintrag auf stolpersteine-hamburg.de  \n",
       "freq                                      10  "
      ]
     },
     "execution_count": 80,
     "metadata": {},
     "output_type": "execute_result"
    }
   ],
   "source": [
    "df.describe()"
   ]
  },
  {
   "cell_type": "markdown",
   "id": "a4133533-5f0c-414f-96e1-d461bdc5f7c6",
   "metadata": {},
   "source": [
    "# 5. Add column \"Stadtteil\" (borough)"
   ]
  },
  {
   "cell_type": "code",
   "execution_count": 81,
   "id": "75e6006e-ee1a-4afb-9ff5-8bf04481d711",
   "metadata": {},
   "outputs": [
    {
     "data": {
      "text/html": [
       "<div>\n",
       "<style scoped>\n",
       "    .dataframe tbody tr th:only-of-type {\n",
       "        vertical-align: middle;\n",
       "    }\n",
       "\n",
       "    .dataframe tbody tr th {\n",
       "        vertical-align: top;\n",
       "    }\n",
       "\n",
       "    .dataframe thead th {\n",
       "        text-align: right;\n",
       "    }\n",
       "</style>\n",
       "<table border=\"1\" class=\"dataframe\">\n",
       "  <thead>\n",
       "    <tr style=\"text-align: right;\">\n",
       "      <th></th>\n",
       "      <th>Adresse</th>\n",
       "      <th>Person(en)</th>\n",
       "      <th>Inschrift</th>\n",
       "      <th>Bilder</th>\n",
       "      <th>Anmerkung</th>\n",
       "      <th>Stadtteil</th>\n",
       "      <th>Bezirk</th>\n",
       "    </tr>\n",
       "  </thead>\n",
       "  <tbody>\n",
       "    <tr>\n",
       "      <th>0</th>\n",
       "      <td>Ilenbrook 14</td>\n",
       "      <td>Bruno Schulz</td>\n",
       "      <td>Hier wohnte Bruno Schulz Jg. 1912 verhaftet 19...</td>\n",
       "      <td></td>\n",
       "      <td>Eintrag auf stolpersteine-hamburg.de</td>\n",
       "      <td>Wilhelmsburg</td>\n",
       "      <td>Hamburg-Mitte</td>\n",
       "    </tr>\n",
       "    <tr>\n",
       "      <th>1</th>\n",
       "      <td>Industriestraße 160</td>\n",
       "      <td>Edith Eggers geb. Libis</td>\n",
       "      <td>Hier wohnte Edith Eggers geb. Libis Jg. 1908 d...</td>\n",
       "      <td></td>\n",
       "      <td>Eintrag auf stolpersteine-hamburg.de am Zugang...</td>\n",
       "      <td>Wilhelmsburg</td>\n",
       "      <td>Hamburg-Mitte</td>\n",
       "    </tr>\n",
       "    <tr>\n",
       "      <th>2</th>\n",
       "      <td>Industriestraße 160</td>\n",
       "      <td>Frida Libis geb. Blumann</td>\n",
       "      <td>Hier wohnte Frida Libis geb. Blumann Jg. 1878 ...</td>\n",
       "      <td></td>\n",
       "      <td>Eintrag auf stolpersteine-hamburg.de am Zugang...</td>\n",
       "      <td>Wilhelmsburg</td>\n",
       "      <td>Hamburg-Mitte</td>\n",
       "    </tr>\n",
       "    <tr>\n",
       "      <th>3</th>\n",
       "      <td>Industriestraße 160</td>\n",
       "      <td>Siegmund Libis</td>\n",
       "      <td>Hier wohnte Siegmund Libis Jg. 1878 deportiert...</td>\n",
       "      <td></td>\n",
       "      <td>Eintrag auf stolpersteine-hamburg.de am Zugang...</td>\n",
       "      <td>Wilhelmsburg</td>\n",
       "      <td>Hamburg-Mitte</td>\n",
       "    </tr>\n",
       "    <tr>\n",
       "      <th>4</th>\n",
       "      <td>Kunertweg 5</td>\n",
       "      <td>Martin Furmanek</td>\n",
       "      <td>Hier wohnte Martin Furmanek Jg. 1877 hingerich...</td>\n",
       "      <td></td>\n",
       "      <td>Eintrag auf stolpersteine-hamburg.de</td>\n",
       "      <td>Wilhelmsburg</td>\n",
       "      <td>Hamburg-Mitte</td>\n",
       "    </tr>\n",
       "  </tbody>\n",
       "</table>\n",
       "</div>"
      ],
      "text/plain": [
       "               Adresse                Person(en)  \\\n",
       "0         Ilenbrook 14              Bruno Schulz   \n",
       "1  Industriestraße 160   Edith Eggers geb. Libis   \n",
       "2  Industriestraße 160  Frida Libis geb. Blumann   \n",
       "3  Industriestraße 160            Siegmund Libis   \n",
       "4          Kunertweg 5           Martin Furmanek   \n",
       "\n",
       "                                           Inschrift Bilder  \\\n",
       "0  Hier wohnte Bruno Schulz Jg. 1912 verhaftet 19...          \n",
       "1  Hier wohnte Edith Eggers geb. Libis Jg. 1908 d...          \n",
       "2  Hier wohnte Frida Libis geb. Blumann Jg. 1878 ...          \n",
       "3  Hier wohnte Siegmund Libis Jg. 1878 deportiert...          \n",
       "4  Hier wohnte Martin Furmanek Jg. 1877 hingerich...          \n",
       "\n",
       "                                           Anmerkung     Stadtteil  \\\n",
       "0               Eintrag auf stolpersteine-hamburg.de  Wilhelmsburg   \n",
       "1  Eintrag auf stolpersteine-hamburg.de am Zugang...  Wilhelmsburg   \n",
       "2  Eintrag auf stolpersteine-hamburg.de am Zugang...  Wilhelmsburg   \n",
       "3  Eintrag auf stolpersteine-hamburg.de am Zugang...  Wilhelmsburg   \n",
       "4               Eintrag auf stolpersteine-hamburg.de  Wilhelmsburg   \n",
       "\n",
       "          Bezirk  \n",
       "0  Hamburg-Mitte  \n",
       "1  Hamburg-Mitte  \n",
       "2  Hamburg-Mitte  \n",
       "3  Hamburg-Mitte  \n",
       "4  Hamburg-Mitte  "
      ]
     },
     "execution_count": 81,
     "metadata": {},
     "output_type": "execute_result"
    }
   ],
   "source": [
    "df['Stadtteil'] = \"Wilhelmsburg\"\n",
    "df['Bezirk'] = \"Hamburg-Mitte\"\n",
    "df.head()"
   ]
  },
  {
   "cell_type": "markdown",
   "id": "16a07435-6c42-422d-b212-17babfba40c9",
   "metadata": {},
   "source": [
    "# 6. Tidy or split columns \"Inschrift\""
   ]
  },
  {
   "cell_type": "code",
   "execution_count": 82,
   "id": "c6553b54-2d57-4b3d-99c6-4d742cde26c1",
   "metadata": {},
   "outputs": [],
   "source": [
    "#### The Text in the column \"Inschrift\" looked like this: \"Hier wohnteBruno SchulzJg. 1912verhaftet\"\n",
    "#### It needed space behind \"wohnte\" and in front of \"Jg.\" etc. – actually for every row"
   ]
  },
  {
   "cell_type": "code",
   "execution_count": 84,
   "id": "057b7990-4a36-48b0-bf10-5d12ec3a89f5",
   "metadata": {},
   "outputs": [],
   "source": [
    "## This did not work. Also I don't want to look for every single word where a space is needed.\n",
    "#df['Inschrift'].str.replace(\"wohnte\", \"wohnte \")\n",
    "#df['Inschrift'].str.replace(\"verhaftet\", \" verhaftet\")\n",
    "#df['Inschrift'].str.replace(\"deportiert\", \" deportiert\")\n",
    "#df['Inschrift'].str.replace(\"hingerichtet\", \" hingerichtet\")\n",
    "#df['Inschrift'].str.replace(\"ermordet\", \" ermordet\")"
   ]
  },
  {
   "cell_type": "code",
   "execution_count": 83,
   "id": "d5214321-e48b-4a1b-9506-c07a7b1797cb",
   "metadata": {},
   "outputs": [],
   "source": [
    "# I had to change the code beforde I used BeautifulSoup - though, this code did not work: html = html.replace(\"<br>\", \" \")"
   ]
  },
  {
   "cell_type": "code",
   "execution_count": null,
   "id": "836432dc-7915-433f-81ae-f84a481341f9",
   "metadata": {},
   "outputs": [],
   "source": [
    "## But this code was working:\n",
    "## html = html.replace(\"<br /><b>\", \" \")\n",
    "## html = html.replace(\"</b><br />\", \" \")\n",
    "## html = html.replace(\"<br />\", \" \")"
   ]
  },
  {
   "cell_type": "code",
   "execution_count": 93,
   "id": "2b6d895a-11bb-48eb-90b1-bf6c090d7f06",
   "metadata": {},
   "outputs": [
    {
     "data": {
      "text/plain": [
       "0     Hier wohnte Bruno Schulz Jg. 1912 verhaftet 19...\n",
       "1     Hier wohnte Edith Eggers geb. Libis Jg. 1908 d...\n",
       "2     Hier wohnte Frida Libis geb. Blumann Jg. 1878 ...\n",
       "3     Hier wohnte Siegmund Libis Jg. 1878 deportiert...\n",
       "4     Hier wohnte Martin Furmanek Jg. 1877 hingerich...\n",
       "5     Hier wohnte Hermine Baron geb. Löw Jg. 1866 de...\n",
       "6     Hier wohnte Dr. Katharina Leipelt geb. Baron J...\n",
       "7     Hier wohnte Hans Konrad Leipelt Jg. 1921 Weiße...\n",
       "8     Hier wohnte Israel Bartfeld Jg. 1870 1939 KZ F...\n",
       "9     Hier wohnte Sara Bartfeld geb. Fleischmann Jg....\n",
       "10    Hier wohnte Rudolf Mokry Jg. 1905 im Widerstan...\n",
       "11    Hier wohnte Hermine Baron geb. Löw Jg. 1866 Fl...\n",
       "12    Hier lernte Hans Leipelt Jg. 1921 im Widerstan...\n",
       "13    Hier wohnte Dr. Katharina Leipelt Jg. 1892 im ...\n",
       "14    Hier lernte Maria Leipelt Jg. 1925 im Widersta...\n",
       "15    Hier wohnte Helene Guttmann geb. Goldberg Jg. ...\n",
       "16    Hier wohnte Jacob Guttmann Jg. 1877 deportiert...\n",
       "17    Hier wohnte Fanny Borower geb. Schwarz Jg. 187...\n",
       "18    Hier wohnte Wolf Borower Jg. 1870 deportiert 1...\n",
       "19    Hier wohnte Clara Cohn geb. Laser Jg. 1888 dep...\n",
       "20    Hier wohnte Adolf Laser Jg. 1918 1941 KZ Fuhls...\n",
       "21    Hier wohnte Rudolph Michael Laser Jg. 1920 dep...\n",
       "Name: Inschrift, dtype: object"
      ]
     },
     "execution_count": 93,
     "metadata": {},
     "output_type": "execute_result"
    }
   ],
   "source": [
    "df.Inschrift"
   ]
  },
  {
   "cell_type": "markdown",
   "id": "58d3ca82-4333-4334-9630-02601b9de301",
   "metadata": {},
   "source": [
    "# 7. Add geolocation lat / long"
   ]
  },
  {
   "cell_type": "markdown",
   "id": "5a9a22e5-7616-43e0-8672-014f506bac70",
   "metadata": {},
   "source": [
    "#### Get urls with geolocation"
   ]
  },
  {
   "cell_type": "code",
   "execution_count": 85,
   "id": "1b394f62-1dac-4a84-83d3-4924cdd464a2",
   "metadata": {},
   "outputs": [
    {
     "data": {
      "text/plain": [
       "['pagename=Liste_der_Stolpersteine_in_Hamburg-Wilhelmsburg&language=de&params=53.5178221_N_9.9893026_E_region:DE-HH_type:landmark&title=Bruno+Schulz',\n",
       " 'pagename=Liste_der_Stolpersteine_in_Hamburg-Wilhelmsburg&language=de&params=53.5192427_N_9.984024_E_region:DE-HH_type:landmark&title=Edith+Eggers+geb.+Libis']"
      ]
     },
     "execution_count": 85,
     "metadata": {},
     "output_type": "execute_result"
    }
   ],
   "source": [
    "from urllib.parse import urlparse, urlunparse\n",
    "\n",
    "Geohack = []\n",
    "\n",
    "for row in row_els:\n",
    "    cells = []\n",
    "    geo = []\n",
    "    for cell in row.select(\"a\"):\n",
    "        cells.append(cell[\"href\"])  \n",
    "    for cell in cells:\n",
    "        parsed_url = urlparse(cell)[4]\n",
    "        geo.append(parsed_url)  \n",
    "    for g in geo:\n",
    "        if \"pagename\" in g:\n",
    "            Geohack.append(g)\n",
    "                \n",
    "Geohack[:2]"
   ]
  },
  {
   "cell_type": "markdown",
   "id": "e8bb4441-cf81-4732-9a05-b027e67c7913",
   "metadata": {},
   "source": [
    "#### Add urls to dataframe and extract geolocation"
   ]
  },
  {
   "cell_type": "code",
   "execution_count": 86,
   "id": "ff155fe1-ac83-4a6c-bdaa-70ab63f7edb8",
   "metadata": {},
   "outputs": [
    {
     "data": {
      "text/html": [
       "<div>\n",
       "<style scoped>\n",
       "    .dataframe tbody tr th:only-of-type {\n",
       "        vertical-align: middle;\n",
       "    }\n",
       "\n",
       "    .dataframe tbody tr th {\n",
       "        vertical-align: top;\n",
       "    }\n",
       "\n",
       "    .dataframe thead th {\n",
       "        text-align: right;\n",
       "    }\n",
       "</style>\n",
       "<table border=\"1\" class=\"dataframe\">\n",
       "  <thead>\n",
       "    <tr style=\"text-align: right;\">\n",
       "      <th></th>\n",
       "      <th>Adresse</th>\n",
       "      <th>Person(en)</th>\n",
       "      <th>Inschrift</th>\n",
       "      <th>Bilder</th>\n",
       "      <th>Anmerkung</th>\n",
       "      <th>Stadtteil</th>\n",
       "      <th>Bezirk</th>\n",
       "      <th>Geohack_url</th>\n",
       "      <th>params</th>\n",
       "      <th>lat</th>\n",
       "      <th>lon</th>\n",
       "    </tr>\n",
       "  </thead>\n",
       "  <tbody>\n",
       "    <tr>\n",
       "      <th>0</th>\n",
       "      <td>Ilenbrook 14</td>\n",
       "      <td>Bruno Schulz</td>\n",
       "      <td>Hier wohnte Bruno Schulz Jg. 1912 verhaftet 19...</td>\n",
       "      <td></td>\n",
       "      <td>Eintrag auf stolpersteine-hamburg.de</td>\n",
       "      <td>Wilhelmsburg</td>\n",
       "      <td>Hamburg-Mitte</td>\n",
       "      <td>pagename=Liste_der_Stolpersteine_in_Hamburg-Wi...</td>\n",
       "      <td>53.5178221_N_9.9893026_E_</td>\n",
       "      <td>53.5178221</td>\n",
       "      <td>9.9893026</td>\n",
       "    </tr>\n",
       "    <tr>\n",
       "      <th>1</th>\n",
       "      <td>Industriestraße 160</td>\n",
       "      <td>Edith Eggers geb. Libis</td>\n",
       "      <td>Hier wohnte Edith Eggers geb. Libis Jg. 1908 d...</td>\n",
       "      <td></td>\n",
       "      <td>Eintrag auf stolpersteine-hamburg.de am Zugang...</td>\n",
       "      <td>Wilhelmsburg</td>\n",
       "      <td>Hamburg-Mitte</td>\n",
       "      <td>pagename=Liste_der_Stolpersteine_in_Hamburg-Wi...</td>\n",
       "      <td>53.5192427_N_9.984024_E_</td>\n",
       "      <td>53.5192427</td>\n",
       "      <td>9.984024</td>\n",
       "    </tr>\n",
       "    <tr>\n",
       "      <th>2</th>\n",
       "      <td>Industriestraße 160</td>\n",
       "      <td>Frida Libis geb. Blumann</td>\n",
       "      <td>Hier wohnte Frida Libis geb. Blumann Jg. 1878 ...</td>\n",
       "      <td></td>\n",
       "      <td>Eintrag auf stolpersteine-hamburg.de am Zugang...</td>\n",
       "      <td>Wilhelmsburg</td>\n",
       "      <td>Hamburg-Mitte</td>\n",
       "      <td>pagename=Liste_der_Stolpersteine_in_Hamburg-Wi...</td>\n",
       "      <td>53.5192427_N_9.984024_E_</td>\n",
       "      <td>53.5192427</td>\n",
       "      <td>9.984024</td>\n",
       "    </tr>\n",
       "    <tr>\n",
       "      <th>3</th>\n",
       "      <td>Industriestraße 160</td>\n",
       "      <td>Siegmund Libis</td>\n",
       "      <td>Hier wohnte Siegmund Libis Jg. 1878 deportiert...</td>\n",
       "      <td></td>\n",
       "      <td>Eintrag auf stolpersteine-hamburg.de am Zugang...</td>\n",
       "      <td>Wilhelmsburg</td>\n",
       "      <td>Hamburg-Mitte</td>\n",
       "      <td>pagename=Liste_der_Stolpersteine_in_Hamburg-Wi...</td>\n",
       "      <td>53.5192427_N_9.984024_E_</td>\n",
       "      <td>53.5192427</td>\n",
       "      <td>9.984024</td>\n",
       "    </tr>\n",
       "    <tr>\n",
       "      <th>4</th>\n",
       "      <td>Kunertweg 5</td>\n",
       "      <td>Martin Furmanek</td>\n",
       "      <td>Hier wohnte Martin Furmanek Jg. 1877 hingerich...</td>\n",
       "      <td></td>\n",
       "      <td>Eintrag auf stolpersteine-hamburg.de</td>\n",
       "      <td>Wilhelmsburg</td>\n",
       "      <td>Hamburg-Mitte</td>\n",
       "      <td>pagename=Liste_der_Stolpersteine_in_Hamburg-Wi...</td>\n",
       "      <td>53.5192451_N_9.9834458_E_</td>\n",
       "      <td>53.5192451</td>\n",
       "      <td>9.9834458</td>\n",
       "    </tr>\n",
       "  </tbody>\n",
       "</table>\n",
       "</div>"
      ],
      "text/plain": [
       "               Adresse                Person(en)  \\\n",
       "0         Ilenbrook 14              Bruno Schulz   \n",
       "1  Industriestraße 160   Edith Eggers geb. Libis   \n",
       "2  Industriestraße 160  Frida Libis geb. Blumann   \n",
       "3  Industriestraße 160            Siegmund Libis   \n",
       "4          Kunertweg 5           Martin Furmanek   \n",
       "\n",
       "                                           Inschrift Bilder  \\\n",
       "0  Hier wohnte Bruno Schulz Jg. 1912 verhaftet 19...          \n",
       "1  Hier wohnte Edith Eggers geb. Libis Jg. 1908 d...          \n",
       "2  Hier wohnte Frida Libis geb. Blumann Jg. 1878 ...          \n",
       "3  Hier wohnte Siegmund Libis Jg. 1878 deportiert...          \n",
       "4  Hier wohnte Martin Furmanek Jg. 1877 hingerich...          \n",
       "\n",
       "                                           Anmerkung     Stadtteil  \\\n",
       "0               Eintrag auf stolpersteine-hamburg.de  Wilhelmsburg   \n",
       "1  Eintrag auf stolpersteine-hamburg.de am Zugang...  Wilhelmsburg   \n",
       "2  Eintrag auf stolpersteine-hamburg.de am Zugang...  Wilhelmsburg   \n",
       "3  Eintrag auf stolpersteine-hamburg.de am Zugang...  Wilhelmsburg   \n",
       "4               Eintrag auf stolpersteine-hamburg.de  Wilhelmsburg   \n",
       "\n",
       "          Bezirk                                        Geohack_url  \\\n",
       "0  Hamburg-Mitte  pagename=Liste_der_Stolpersteine_in_Hamburg-Wi...   \n",
       "1  Hamburg-Mitte  pagename=Liste_der_Stolpersteine_in_Hamburg-Wi...   \n",
       "2  Hamburg-Mitte  pagename=Liste_der_Stolpersteine_in_Hamburg-Wi...   \n",
       "3  Hamburg-Mitte  pagename=Liste_der_Stolpersteine_in_Hamburg-Wi...   \n",
       "4  Hamburg-Mitte  pagename=Liste_der_Stolpersteine_in_Hamburg-Wi...   \n",
       "\n",
       "                      params         lat        lon  \n",
       "0  53.5178221_N_9.9893026_E_  53.5178221  9.9893026  \n",
       "1   53.5192427_N_9.984024_E_  53.5192427   9.984024  \n",
       "2   53.5192427_N_9.984024_E_  53.5192427   9.984024  \n",
       "3   53.5192427_N_9.984024_E_  53.5192427   9.984024  \n",
       "4  53.5192451_N_9.9834458_E_  53.5192451  9.9834458  "
      ]
     },
     "execution_count": 86,
     "metadata": {},
     "output_type": "execute_result"
    }
   ],
   "source": [
    "df['Geohack_url'] = Geohack\n",
    "\n",
    "df['params'] = df['Geohack_url'].str.extract(\"params=(.*)region\", expand=False)\n",
    "df['lat'] = df['params'].str.extract(\"(.*)_N\", expand=False)\n",
    "df['lon'] = df['params'].str.extract(\"N_(.*)_E\", expand=False)\n",
    "df.head()"
   ]
  },
  {
   "cell_type": "code",
   "execution_count": 88,
   "id": "fa1fc233-1830-476d-9709-cbf2244069c2",
   "metadata": {},
   "outputs": [],
   "source": [
    "#df.to_csv('stolpersteine_wilhelmsburg.csv', index = False)"
   ]
  },
  {
   "cell_type": "markdown",
   "id": "4ef30531-85ab-4bab-80de-9bae2440d631",
   "metadata": {},
   "source": [
    "# 8. Think of possible questions"
   ]
  },
  {
   "cell_type": "markdown",
   "id": "b05e2338-3b89-4be5-8c1a-c23c212df0a2",
   "metadata": {},
   "source": []
  },
  {
   "cell_type": "code",
   "execution_count": 21,
   "id": "7319703d-0068-4896-89fb-1f6b7173c039",
   "metadata": {},
   "outputs": [],
   "source": [
    "# year of deportation or death?"
   ]
  },
  {
   "cell_type": "code",
   "execution_count": 22,
   "id": "5dbdac77-4c7b-4c54-ad5d-22f0ce7d8228",
   "metadata": {},
   "outputs": [],
   "source": [
    "# age"
   ]
  },
  {
   "cell_type": "code",
   "execution_count": 23,
   "id": "ffbbb213-215e-4b58-a2bf-01bf44e6f249",
   "metadata": {},
   "outputs": [],
   "source": [
    "# doubles (people who have more than one stone)"
   ]
  },
  {
   "cell_type": "code",
   "execution_count": 24,
   "id": "024bf767-e774-4a96-b82b-1df6acaf5959",
   "metadata": {},
   "outputs": [],
   "source": [
    "# create caterogory: jewish, resistance, homosexual, sinti & roma, disabled etc. - not in the table, but in the biographies in the links"
   ]
  },
  {
   "cell_type": "code",
   "execution_count": 25,
   "id": "1b887dd8-17b8-4e2a-88ae-0d50486da029",
   "metadata": {},
   "outputs": [],
   "source": [
    "# contact Landeszentrale für politische Bildung Hamburg (stoplersteine-hamburg.de)"
   ]
  },
  {
   "cell_type": "code",
   "execution_count": 26,
   "id": "d07c40cd-1d17-44b6-91cc-68e39893bb9c",
   "metadata": {},
   "outputs": [],
   "source": [
    "# contact artist"
   ]
  },
  {
   "cell_type": "code",
   "execution_count": 27,
   "id": "a6e3ce06-20ec-4eff-b677-d4e1eb084993",
   "metadata": {},
   "outputs": [],
   "source": [
    "# research other projects on this topic"
   ]
  },
  {
   "cell_type": "markdown",
   "id": "67f800be-135f-4416-a205-59a8fb12717a",
   "metadata": {},
   "source": [
    "# 9. Analysis"
   ]
  },
  {
   "cell_type": "code",
   "execution_count": 89,
   "id": "56d77f5d-2188-4f68-9fbd-3238904a7c7c",
   "metadata": {},
   "outputs": [],
   "source": [
    "df = pd.read_csv('stolpersteine_wilhelmsburg.csv')"
   ]
  },
  {
   "cell_type": "code",
   "execution_count": 90,
   "id": "4120925f-36d7-4ef1-9b18-a827332ab08d",
   "metadata": {},
   "outputs": [
    {
     "data": {
      "text/html": [
       "<div>\n",
       "<style scoped>\n",
       "    .dataframe tbody tr th:only-of-type {\n",
       "        vertical-align: middle;\n",
       "    }\n",
       "\n",
       "    .dataframe tbody tr th {\n",
       "        vertical-align: top;\n",
       "    }\n",
       "\n",
       "    .dataframe thead th {\n",
       "        text-align: right;\n",
       "    }\n",
       "</style>\n",
       "<table border=\"1\" class=\"dataframe\">\n",
       "  <thead>\n",
       "    <tr style=\"text-align: right;\">\n",
       "      <th></th>\n",
       "      <th>Adresse</th>\n",
       "      <th>Person(en)</th>\n",
       "      <th>Inschrift</th>\n",
       "      <th>Bilder</th>\n",
       "      <th>Anmerkung</th>\n",
       "      <th>Stadtteil</th>\n",
       "      <th>Bezirk</th>\n",
       "      <th>Geohack_url</th>\n",
       "      <th>params</th>\n",
       "      <th>lat</th>\n",
       "      <th>lon</th>\n",
       "    </tr>\n",
       "  </thead>\n",
       "  <tbody>\n",
       "    <tr>\n",
       "      <th>0</th>\n",
       "      <td>Ilenbrook 14</td>\n",
       "      <td>Bruno Schulz</td>\n",
       "      <td>Hier wohnte Bruno Schulz Jg. 1912 verhaftet 19...</td>\n",
       "      <td>NaN</td>\n",
       "      <td>Eintrag auf stolpersteine-hamburg.de</td>\n",
       "      <td>Wilhelmsburg</td>\n",
       "      <td>Hamburg-Mitte</td>\n",
       "      <td>pagename=Liste_der_Stolpersteine_in_Hamburg-Wi...</td>\n",
       "      <td>53.5178221_N_9.9893026_E_</td>\n",
       "      <td>53.517822</td>\n",
       "      <td>9.989303</td>\n",
       "    </tr>\n",
       "    <tr>\n",
       "      <th>1</th>\n",
       "      <td>Industriestraße 160</td>\n",
       "      <td>Edith Eggers geb. Libis</td>\n",
       "      <td>Hier wohnte Edith Eggers geb. Libis Jg. 1908 d...</td>\n",
       "      <td>NaN</td>\n",
       "      <td>Eintrag auf stolpersteine-hamburg.de am Zugang...</td>\n",
       "      <td>Wilhelmsburg</td>\n",
       "      <td>Hamburg-Mitte</td>\n",
       "      <td>pagename=Liste_der_Stolpersteine_in_Hamburg-Wi...</td>\n",
       "      <td>53.5192427_N_9.984024_E_</td>\n",
       "      <td>53.519243</td>\n",
       "      <td>9.984024</td>\n",
       "    </tr>\n",
       "    <tr>\n",
       "      <th>2</th>\n",
       "      <td>Industriestraße 160</td>\n",
       "      <td>Frida Libis geb. Blumann</td>\n",
       "      <td>Hier wohnte Frida Libis geb. Blumann Jg. 1878 ...</td>\n",
       "      <td>NaN</td>\n",
       "      <td>Eintrag auf stolpersteine-hamburg.de am Zugang...</td>\n",
       "      <td>Wilhelmsburg</td>\n",
       "      <td>Hamburg-Mitte</td>\n",
       "      <td>pagename=Liste_der_Stolpersteine_in_Hamburg-Wi...</td>\n",
       "      <td>53.5192427_N_9.984024_E_</td>\n",
       "      <td>53.519243</td>\n",
       "      <td>9.984024</td>\n",
       "    </tr>\n",
       "    <tr>\n",
       "      <th>3</th>\n",
       "      <td>Industriestraße 160</td>\n",
       "      <td>Siegmund Libis</td>\n",
       "      <td>Hier wohnte Siegmund Libis Jg. 1878 deportiert...</td>\n",
       "      <td>NaN</td>\n",
       "      <td>Eintrag auf stolpersteine-hamburg.de am Zugang...</td>\n",
       "      <td>Wilhelmsburg</td>\n",
       "      <td>Hamburg-Mitte</td>\n",
       "      <td>pagename=Liste_der_Stolpersteine_in_Hamburg-Wi...</td>\n",
       "      <td>53.5192427_N_9.984024_E_</td>\n",
       "      <td>53.519243</td>\n",
       "      <td>9.984024</td>\n",
       "    </tr>\n",
       "    <tr>\n",
       "      <th>4</th>\n",
       "      <td>Kunertweg 5</td>\n",
       "      <td>Martin Furmanek</td>\n",
       "      <td>Hier wohnte Martin Furmanek Jg. 1877 hingerich...</td>\n",
       "      <td>NaN</td>\n",
       "      <td>Eintrag auf stolpersteine-hamburg.de</td>\n",
       "      <td>Wilhelmsburg</td>\n",
       "      <td>Hamburg-Mitte</td>\n",
       "      <td>pagename=Liste_der_Stolpersteine_in_Hamburg-Wi...</td>\n",
       "      <td>53.5192451_N_9.9834458_E_</td>\n",
       "      <td>53.519245</td>\n",
       "      <td>9.983446</td>\n",
       "    </tr>\n",
       "  </tbody>\n",
       "</table>\n",
       "</div>"
      ],
      "text/plain": [
       "               Adresse                Person(en)  \\\n",
       "0         Ilenbrook 14              Bruno Schulz   \n",
       "1  Industriestraße 160   Edith Eggers geb. Libis   \n",
       "2  Industriestraße 160  Frida Libis geb. Blumann   \n",
       "3  Industriestraße 160            Siegmund Libis   \n",
       "4          Kunertweg 5           Martin Furmanek   \n",
       "\n",
       "                                           Inschrift  Bilder  \\\n",
       "0  Hier wohnte Bruno Schulz Jg. 1912 verhaftet 19...     NaN   \n",
       "1  Hier wohnte Edith Eggers geb. Libis Jg. 1908 d...     NaN   \n",
       "2  Hier wohnte Frida Libis geb. Blumann Jg. 1878 ...     NaN   \n",
       "3  Hier wohnte Siegmund Libis Jg. 1878 deportiert...     NaN   \n",
       "4  Hier wohnte Martin Furmanek Jg. 1877 hingerich...     NaN   \n",
       "\n",
       "                                           Anmerkung     Stadtteil  \\\n",
       "0               Eintrag auf stolpersteine-hamburg.de  Wilhelmsburg   \n",
       "1  Eintrag auf stolpersteine-hamburg.de am Zugang...  Wilhelmsburg   \n",
       "2  Eintrag auf stolpersteine-hamburg.de am Zugang...  Wilhelmsburg   \n",
       "3  Eintrag auf stolpersteine-hamburg.de am Zugang...  Wilhelmsburg   \n",
       "4               Eintrag auf stolpersteine-hamburg.de  Wilhelmsburg   \n",
       "\n",
       "          Bezirk                                        Geohack_url  \\\n",
       "0  Hamburg-Mitte  pagename=Liste_der_Stolpersteine_in_Hamburg-Wi...   \n",
       "1  Hamburg-Mitte  pagename=Liste_der_Stolpersteine_in_Hamburg-Wi...   \n",
       "2  Hamburg-Mitte  pagename=Liste_der_Stolpersteine_in_Hamburg-Wi...   \n",
       "3  Hamburg-Mitte  pagename=Liste_der_Stolpersteine_in_Hamburg-Wi...   \n",
       "4  Hamburg-Mitte  pagename=Liste_der_Stolpersteine_in_Hamburg-Wi...   \n",
       "\n",
       "                      params        lat       lon  \n",
       "0  53.5178221_N_9.9893026_E_  53.517822  9.989303  \n",
       "1   53.5192427_N_9.984024_E_  53.519243  9.984024  \n",
       "2   53.5192427_N_9.984024_E_  53.519243  9.984024  \n",
       "3   53.5192427_N_9.984024_E_  53.519243  9.984024  \n",
       "4  53.5192451_N_9.9834458_E_  53.519245  9.983446  "
      ]
     },
     "execution_count": 90,
     "metadata": {},
     "output_type": "execute_result"
    }
   ],
   "source": [
    "df.head()"
   ]
  },
  {
   "cell_type": "markdown",
   "id": "3507b8bc-668e-4f21-bc24-693002622ab0",
   "metadata": {},
   "source": [
    "#### Get year of birth from inscription (\"Inschrift\")"
   ]
  },
  {
   "cell_type": "code",
   "execution_count": 94,
   "id": "f380a2b1-02a7-4bb3-a0b7-2bc494ce4ffa",
   "metadata": {},
   "outputs": [],
   "source": [
    "df['Jahrgang'] = df['Inschrift'].str.extract(\"Jg. (\\d*)\", expand=False).astype(float)"
   ]
  },
  {
   "cell_type": "markdown",
   "id": "57bbc51b-a2d7-4ccc-8bc5-27b2154dadc3",
   "metadata": {},
   "source": [
    "#### Get year of deportation from inscription¶"
   ]
  },
  {
   "cell_type": "code",
   "execution_count": 95,
   "id": "373bff30-653e-48c6-90f2-984772efb593",
   "metadata": {},
   "outputs": [],
   "source": [
    "df['deportiert'] = df['Inschrift'].str.extract(\"deportiert (\\d*)\", expand=False).astype(float)"
   ]
  },
  {
   "cell_type": "markdown",
   "id": "c4c15f25-be93-4130-beeb-e73e33d43a78",
   "metadata": {},
   "source": [
    "#### Get age when deported"
   ]
  },
  {
   "cell_type": "code",
   "execution_count": 96,
   "id": "7b075fa7-7344-4055-8804-a427dabbcaf7",
   "metadata": {},
   "outputs": [],
   "source": [
    "df['age_when_deported']= \"deportiert - Jahrgang\""
   ]
  },
  {
   "cell_type": "markdown",
   "id": "02a37c41-24fb-46c6-ab74-07417762564c",
   "metadata": {},
   "source": [
    "#### Get murderd (\"ermordet\")"
   ]
  },
  {
   "cell_type": "code",
   "execution_count": 97,
   "id": "d30482c8-552b-43ae-9fa4-a950b51660c8",
   "metadata": {},
   "outputs": [],
   "source": [
    "df['ermordet'] = df['Inschrift'].str.contains(\"ermordet\")"
   ]
  },
  {
   "cell_type": "code",
   "execution_count": 98,
   "id": "581492d2-e591-4dd9-a1a8-b51a61fc0620",
   "metadata": {},
   "outputs": [
    {
     "data": {
      "text/html": [
       "<div>\n",
       "<style scoped>\n",
       "    .dataframe tbody tr th:only-of-type {\n",
       "        vertical-align: middle;\n",
       "    }\n",
       "\n",
       "    .dataframe tbody tr th {\n",
       "        vertical-align: top;\n",
       "    }\n",
       "\n",
       "    .dataframe thead th {\n",
       "        text-align: right;\n",
       "    }\n",
       "</style>\n",
       "<table border=\"1\" class=\"dataframe\">\n",
       "  <thead>\n",
       "    <tr style=\"text-align: right;\">\n",
       "      <th></th>\n",
       "      <th>Adresse</th>\n",
       "      <th>Person(en)</th>\n",
       "      <th>Inschrift</th>\n",
       "      <th>Bilder</th>\n",
       "      <th>Anmerkung</th>\n",
       "      <th>Jahrgang</th>\n",
       "      <th>deportiert</th>\n",
       "      <th>age_when_deported</th>\n",
       "      <th>ermordet</th>\n",
       "    </tr>\n",
       "  </thead>\n",
       "  <tbody>\n",
       "    <tr>\n",
       "      <th>0</th>\n",
       "      <td>Ilenbrook 14</td>\n",
       "      <td>Bruno Schulz</td>\n",
       "      <td>Hier wohnte Bruno Schulz Jg. 1912 verhaftet 19...</td>\n",
       "      <td></td>\n",
       "      <td>Eintrag auf stolpersteine-hamburg.de</td>\n",
       "      <td>1912.0</td>\n",
       "      <td>NaN</td>\n",
       "      <td>deportiert - Jahrgang</td>\n",
       "      <td>True</td>\n",
       "    </tr>\n",
       "    <tr>\n",
       "      <th>1</th>\n",
       "      <td>Industriestraße 160</td>\n",
       "      <td>Edith Eggers geb. Libis</td>\n",
       "      <td>Hier wohnte Edith Eggers geb. Libis Jg. 1908 d...</td>\n",
       "      <td></td>\n",
       "      <td>Eintrag auf stolpersteine-hamburg.de am Zugang...</td>\n",
       "      <td>1908.0</td>\n",
       "      <td>1941.0</td>\n",
       "      <td>deportiert - Jahrgang</td>\n",
       "      <td>False</td>\n",
       "    </tr>\n",
       "    <tr>\n",
       "      <th>2</th>\n",
       "      <td>Industriestraße 160</td>\n",
       "      <td>Frida Libis geb. Blumann</td>\n",
       "      <td>Hier wohnte Frida Libis geb. Blumann Jg. 1878 ...</td>\n",
       "      <td></td>\n",
       "      <td>Eintrag auf stolpersteine-hamburg.de am Zugang...</td>\n",
       "      <td>1878.0</td>\n",
       "      <td>1941.0</td>\n",
       "      <td>deportiert - Jahrgang</td>\n",
       "      <td>False</td>\n",
       "    </tr>\n",
       "    <tr>\n",
       "      <th>3</th>\n",
       "      <td>Industriestraße 160</td>\n",
       "      <td>Siegmund Libis</td>\n",
       "      <td>Hier wohnte Siegmund Libis Jg. 1878 deportiert...</td>\n",
       "      <td></td>\n",
       "      <td>Eintrag auf stolpersteine-hamburg.de am Zugang...</td>\n",
       "      <td>1878.0</td>\n",
       "      <td>1941.0</td>\n",
       "      <td>deportiert - Jahrgang</td>\n",
       "      <td>False</td>\n",
       "    </tr>\n",
       "    <tr>\n",
       "      <th>4</th>\n",
       "      <td>Kunertweg 5</td>\n",
       "      <td>Martin Furmanek</td>\n",
       "      <td>Hier wohnte Martin Furmanek Jg. 1877 hingerich...</td>\n",
       "      <td></td>\n",
       "      <td>Eintrag auf stolpersteine-hamburg.de</td>\n",
       "      <td>1877.0</td>\n",
       "      <td>NaN</td>\n",
       "      <td>deportiert - Jahrgang</td>\n",
       "      <td>False</td>\n",
       "    </tr>\n",
       "  </tbody>\n",
       "</table>\n",
       "</div>"
      ],
      "text/plain": [
       "               Adresse                Person(en)  \\\n",
       "0         Ilenbrook 14              Bruno Schulz   \n",
       "1  Industriestraße 160   Edith Eggers geb. Libis   \n",
       "2  Industriestraße 160  Frida Libis geb. Blumann   \n",
       "3  Industriestraße 160            Siegmund Libis   \n",
       "4          Kunertweg 5           Martin Furmanek   \n",
       "\n",
       "                                           Inschrift Bilder  \\\n",
       "0  Hier wohnte Bruno Schulz Jg. 1912 verhaftet 19...          \n",
       "1  Hier wohnte Edith Eggers geb. Libis Jg. 1908 d...          \n",
       "2  Hier wohnte Frida Libis geb. Blumann Jg. 1878 ...          \n",
       "3  Hier wohnte Siegmund Libis Jg. 1878 deportiert...          \n",
       "4  Hier wohnte Martin Furmanek Jg. 1877 hingerich...          \n",
       "\n",
       "                                           Anmerkung  Jahrgang  deportiert  \\\n",
       "0               Eintrag auf stolpersteine-hamburg.de    1912.0         NaN   \n",
       "1  Eintrag auf stolpersteine-hamburg.de am Zugang...    1908.0      1941.0   \n",
       "2  Eintrag auf stolpersteine-hamburg.de am Zugang...    1878.0      1941.0   \n",
       "3  Eintrag auf stolpersteine-hamburg.de am Zugang...    1878.0      1941.0   \n",
       "4               Eintrag auf stolpersteine-hamburg.de    1877.0         NaN   \n",
       "\n",
       "       age_when_deported  ermordet  \n",
       "0  deportiert - Jahrgang      True  \n",
       "1  deportiert - Jahrgang     False  \n",
       "2  deportiert - Jahrgang     False  \n",
       "3  deportiert - Jahrgang     False  \n",
       "4  deportiert - Jahrgang     False  "
      ]
     },
     "execution_count": 98,
     "metadata": {},
     "output_type": "execute_result"
    }
   ],
   "source": [
    "df.head()"
   ]
  },
  {
   "cell_type": "code",
   "execution_count": null,
   "id": "bc35f1bc-217c-4cd3-89f6-59358c163c20",
   "metadata": {},
   "outputs": [],
   "source": []
  }
 ],
 "metadata": {
  "kernelspec": {
   "display_name": "Python 3 (ipykernel)",
   "language": "python",
   "name": "python3"
  },
  "language_info": {
   "codemirror_mode": {
    "name": "ipython",
    "version": 3
   },
   "file_extension": ".py",
   "mimetype": "text/x-python",
   "name": "python",
   "nbconvert_exporter": "python",
   "pygments_lexer": "ipython3",
   "version": "3.11.8"
  }
 },
 "nbformat": 4,
 "nbformat_minor": 5
}
