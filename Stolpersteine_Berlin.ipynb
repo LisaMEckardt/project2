{
 "cells": [
  {
   "cell_type": "markdown",
   "id": "e1342e61-7739-47b9-8c0c-f8de8249e318",
   "metadata": {},
   "source": [
    "# Stolpersteine in Berlin"
   ]
  },
  {
   "cell_type": "code",
   "execution_count": 5,
   "id": "79de2028-2527-493b-b2d1-25923ebf7db1",
   "metadata": {},
   "outputs": [],
   "source": [
    "#### I found this dataset here : https://daten.berlin.de/datensaetze/liste-der-stolpersteine-berlin\n",
    "#### Unlike Wikipedia it does not give you the inscription\n",
    "#### But there are links to the biography"
   ]
  },
  {
   "cell_type": "code",
   "execution_count": 6,
   "id": "0c0a88ff-e6ce-4831-8acf-0586a5591c52",
   "metadata": {},
   "outputs": [],
   "source": [
    "import pandas as pd"
   ]
  },
  {
   "cell_type": "code",
   "execution_count": 7,
   "id": "a1fc3884-9051-4157-bd5d-0c2f8f77885b",
   "metadata": {},
   "outputs": [
    {
     "data": {
      "text/html": [
       "<div>\n",
       "<style scoped>\n",
       "    .dataframe tbody tr th:only-of-type {\n",
       "        vertical-align: middle;\n",
       "    }\n",
       "\n",
       "    .dataframe tbody tr th {\n",
       "        vertical-align: top;\n",
       "    }\n",
       "\n",
       "    .dataframe thead th {\n",
       "        text-align: right;\n",
       "    }\n",
       "</style>\n",
       "<table border=\"1\" class=\"dataframe\">\n",
       "  <thead>\n",
       "    <tr style=\"text-align: right;\">\n",
       "      <th></th>\n",
       "      <th>Vorname</th>\n",
       "      <th>Nachname</th>\n",
       "      <th>Geburtsjahr</th>\n",
       "      <th>Längengrad</th>\n",
       "      <th>Breitengrad</th>\n",
       "      <th>Straße</th>\n",
       "      <th>Hausnummer</th>\n",
       "      <th>Straße + Hausnummer</th>\n",
       "      <th>Postleitzahl</th>\n",
       "      <th>Ortsteil</th>\n",
       "      <th>Ortsteil-ID</th>\n",
       "      <th>Bezirk</th>\n",
       "      <th>Bezirk-ID</th>\n",
       "      <th>Virtueller-Stein</th>\n",
       "      <th>Url zu Biografie</th>\n",
       "    </tr>\n",
       "  </thead>\n",
       "  <tbody>\n",
       "    <tr>\n",
       "      <th>0</th>\n",
       "      <td>Hedwig</td>\n",
       "      <td>Abraham</td>\n",
       "      <td>1861</td>\n",
       "      <td>13.410555</td>\n",
       "      <td>52.513028</td>\n",
       "      <td>Märkisches Ufer</td>\n",
       "      <td>20</td>\n",
       "      <td>10179.0</td>\n",
       "      <td>Märkisches Ufer 20</td>\n",
       "      <td>Mitte</td>\n",
       "      <td>62</td>\n",
       "      <td>Mitte</td>\n",
       "      <td>61.0</td>\n",
       "      <td>0</td>\n",
       "      <td>https://www.stolpersteine-berlin.de/biografie/1</td>\n",
       "    </tr>\n",
       "    <tr>\n",
       "      <th>1</th>\n",
       "      <td>Richard</td>\n",
       "      <td>Abraham</td>\n",
       "      <td>1895</td>\n",
       "      <td>13.408110</td>\n",
       "      <td>52.512010</td>\n",
       "      <td>Wallstraße</td>\n",
       "      <td>84</td>\n",
       "      <td>10179.0</td>\n",
       "      <td>Wallstraße 84</td>\n",
       "      <td>Mitte</td>\n",
       "      <td>62</td>\n",
       "      <td>Mitte</td>\n",
       "      <td>61.0</td>\n",
       "      <td>0</td>\n",
       "      <td>https://www.stolpersteine-berlin.de/biografie/2</td>\n",
       "    </tr>\n",
       "    <tr>\n",
       "      <th>2</th>\n",
       "      <td>Herta</td>\n",
       "      <td>Abraham</td>\n",
       "      <td>1895</td>\n",
       "      <td>13.408110</td>\n",
       "      <td>52.512010</td>\n",
       "      <td>Wallstraße</td>\n",
       "      <td>84</td>\n",
       "      <td>10179.0</td>\n",
       "      <td>Wallstraße 84</td>\n",
       "      <td>Mitte</td>\n",
       "      <td>62</td>\n",
       "      <td>Mitte</td>\n",
       "      <td>61.0</td>\n",
       "      <td>0</td>\n",
       "      <td>https://www.stolpersteine-berlin.de/biografie/3</td>\n",
       "    </tr>\n",
       "    <tr>\n",
       "      <th>3</th>\n",
       "      <td>Ruth Nelly</td>\n",
       "      <td>Abraham</td>\n",
       "      <td>1934</td>\n",
       "      <td>13.408110</td>\n",
       "      <td>52.512010</td>\n",
       "      <td>Wallstraße</td>\n",
       "      <td>84</td>\n",
       "      <td>10179.0</td>\n",
       "      <td>Wallstraße 84</td>\n",
       "      <td>Mitte</td>\n",
       "      <td>62</td>\n",
       "      <td>Mitte</td>\n",
       "      <td>61.0</td>\n",
       "      <td>0</td>\n",
       "      <td>https://www.stolpersteine-berlin.de/biografie/4</td>\n",
       "    </tr>\n",
       "    <tr>\n",
       "      <th>4</th>\n",
       "      <td>Edmond</td>\n",
       "      <td>Adout</td>\n",
       "      <td>1889</td>\n",
       "      <td>13.336152</td>\n",
       "      <td>52.521803</td>\n",
       "      <td>Dortmunder Str.</td>\n",
       "      <td>9</td>\n",
       "      <td>10555.0</td>\n",
       "      <td>Dortmunder Str. 9</td>\n",
       "      <td>Moabit</td>\n",
       "      <td>63</td>\n",
       "      <td>Mitte</td>\n",
       "      <td>61.0</td>\n",
       "      <td>0</td>\n",
       "      <td>https://www.stolpersteine-berlin.de/biografie/5</td>\n",
       "    </tr>\n",
       "  </tbody>\n",
       "</table>\n",
       "</div>"
      ],
      "text/plain": [
       "      Vorname Nachname  Geburtsjahr  Längengrad  Breitengrad           Straße  \\\n",
       "0      Hedwig  Abraham         1861   13.410555    52.513028  Märkisches Ufer   \n",
       "1     Richard  Abraham         1895   13.408110    52.512010       Wallstraße   \n",
       "2       Herta  Abraham         1895   13.408110    52.512010       Wallstraße   \n",
       "3  Ruth Nelly  Abraham         1934   13.408110    52.512010       Wallstraße   \n",
       "4      Edmond    Adout         1889   13.336152    52.521803  Dortmunder Str.   \n",
       "\n",
       "  Hausnummer  Straße + Hausnummer        Postleitzahl Ortsteil  Ortsteil-ID  \\\n",
       "0         20              10179.0  Märkisches Ufer 20    Mitte           62   \n",
       "1         84              10179.0       Wallstraße 84    Mitte           62   \n",
       "2         84              10179.0       Wallstraße 84    Mitte           62   \n",
       "3         84              10179.0       Wallstraße 84    Mitte           62   \n",
       "4          9              10555.0   Dortmunder Str. 9   Moabit           63   \n",
       "\n",
       "  Bezirk   Bezirk-ID  Virtueller-Stein  \\\n",
       "0  Mitte        61.0                 0   \n",
       "1  Mitte        61.0                 0   \n",
       "2  Mitte        61.0                 0   \n",
       "3  Mitte        61.0                 0   \n",
       "4  Mitte        61.0                 0   \n",
       "\n",
       "                                  Url zu Biografie  \n",
       "0  https://www.stolpersteine-berlin.de/biografie/1  \n",
       "1  https://www.stolpersteine-berlin.de/biografie/2  \n",
       "2  https://www.stolpersteine-berlin.de/biografie/3  \n",
       "3  https://www.stolpersteine-berlin.de/biografie/4  \n",
       "4  https://www.stolpersteine-berlin.de/biografie/5  "
      ]
     },
     "execution_count": 7,
     "metadata": {},
     "output_type": "execute_result"
    }
   ],
   "source": [
    "df = pd.read_csv('stolpersteine_berlin.csv')\n",
    "df.head()"
   ]
  },
  {
   "cell_type": "code",
   "execution_count": 8,
   "id": "900d90f6-b729-46a9-8fd6-5873c3fc33b4",
   "metadata": {},
   "outputs": [
    {
     "data": {
      "text/plain": [
       "9788"
      ]
     },
     "execution_count": 8,
     "metadata": {},
     "output_type": "execute_result"
    }
   ],
   "source": [
    "# How many Stolpersteine in total?\n",
    "len(df)"
   ]
  },
  {
   "cell_type": "code",
   "execution_count": 9,
   "id": "c18297ec-8db1-4084-b83e-4f3591e5c403",
   "metadata": {},
   "outputs": [
    {
     "data": {
      "text/plain": [
       "Bezirk\n",
       "Charlottenburg-Wilmersdorf    3474\n",
       "Mitte                         1959\n",
       "Friedrichshain-Kreuzberg      1036\n",
       "Tempelhof-Schöneberg          1011\n",
       "Pankow                         811\n",
       "Steglitz-Zehlendorf            611\n",
       "Neukölln                       255\n",
       "Reinickendorf                  174\n",
       "Lichtenberg                    139\n",
       "Treptow-Köpenick               117\n",
       "Spandau                         61\n",
       "Marzahn-Hellersdorf             37\n",
       "Name: count, dtype: int64"
      ]
     },
     "execution_count": 9,
     "metadata": {},
     "output_type": "execute_result"
    }
   ],
   "source": [
    "## How many Stolpersteine per Bezirk? \n",
    "## A lot more stones in the west, especially in Charlottenburg which is a wealthy part of the city. \n",
    "## Did more victims live there - or did wealthy people donate more stones to their neighborhood?\n",
    "df['Bezirk'].value_counts()"
   ]
  },
  {
   "cell_type": "code",
   "execution_count": null,
   "id": "f22d5c29-561b-4df7-a7c5-1714eef7e6a0",
   "metadata": {},
   "outputs": [],
   "source": []
  },
  {
   "cell_type": "code",
   "execution_count": null,
   "id": "fab31134-a55b-4d92-a721-96348f8f3976",
   "metadata": {},
   "outputs": [],
   "source": []
  },
  {
   "cell_type": "code",
   "execution_count": null,
   "id": "72059936-0d27-4a95-b187-75dfd5dfbad4",
   "metadata": {},
   "outputs": [],
   "source": []
  },
  {
   "cell_type": "code",
   "execution_count": 15,
   "id": "fab2881d-a2ff-47af-8705-cf2c10c4d242",
   "metadata": {},
   "outputs": [
    {
     "data": {
      "text/plain": [
       "Ortsteil\n",
       "Charlottenburg     1613\n",
       "Wilmersdorf        1478\n",
       "Mitte              1098\n",
       "Schöneberg          720\n",
       "Prenzlauer Berg     702\n",
       "Kreuzberg           670\n",
       "Moabit              504\n",
       "Friedrichshain      366\n",
       "Neukölln            233\n",
       "Halensee            232\n",
       "Name: count, dtype: int64"
      ]
     },
     "execution_count": 15,
     "metadata": {},
     "output_type": "execute_result"
    }
   ],
   "source": [
    "df['Ortsteil'].value_counts().head(10)"
   ]
  },
  {
   "cell_type": "code",
   "execution_count": 18,
   "id": "ef3b7692-a8ff-4e6b-980a-01042f20081a",
   "metadata": {},
   "outputs": [
    {
     "data": {
      "text/plain": [
       "Geburtsjahr\n",
       "1886    245\n",
       "1881    230\n",
       "1878    228\n",
       "1893    223\n",
       "1882    222\n",
       "1880    219\n",
       "1885    219\n",
       "1883    217\n",
       "1887    216\n",
       "1889    215\n",
       "Name: count, dtype: int64"
      ]
     },
     "execution_count": 18,
     "metadata": {},
     "output_type": "execute_result"
    }
   ],
   "source": [
    "## In which year were most victims born?\n",
    "df['Geburtsjahr'].value_counts().head(10)"
   ]
  },
  {
   "cell_type": "code",
   "execution_count": 12,
   "id": "b68e3b71-7d5e-4884-b5ef-c50b489ac441",
   "metadata": {},
   "outputs": [
    {
     "data": {
      "text/plain": [
       "Straße\n",
       "Sybelstr.              155\n",
       "Giesebrechtstr.        122\n",
       "Thomasiusstraße        114\n",
       "Mommsenstr.             93\n",
       "Trautenaustr.           81\n",
       "                      ... \n",
       "Nentwigstraße            1\n",
       "Pflügerstraße            1\n",
       "Wildenbruchplatz         1\n",
       "Bruno-Bauer-Straße       1\n",
       "Deidesheimer Straße      1\n",
       "Name: count, Length: 1921, dtype: int64"
      ]
     },
     "execution_count": 12,
     "metadata": {},
     "output_type": "execute_result"
    }
   ],
   "source": [
    "## In which street lived most victims?\n",
    "df['Straße'].value_counts()"
   ]
  },
  {
   "cell_type": "code",
   "execution_count": 17,
   "id": "7ce48d23-f489-46bb-b676-de792e8aed29",
   "metadata": {},
   "outputs": [
    {
     "data": {
      "text/plain": [
       "Vorname\n",
       "Max          218\n",
       "Gertrud      183\n",
       "Margarete    168\n",
       "Martha       154\n",
       "Else         123\n",
       "Johanna      120\n",
       "Rosa         118\n",
       "Erna         112\n",
       "Georg        100\n",
       "Charlotte     99\n",
       "Name: count, dtype: int64"
      ]
     },
     "execution_count": 17,
     "metadata": {},
     "output_type": "execute_result"
    }
   ],
   "source": [
    "## Most common name\n",
    "df['Vorname'].value_counts().head(10)"
   ]
  },
  {
   "cell_type": "code",
   "execution_count": 16,
   "id": "21dbcc93-fdb0-4612-84cf-bea7429abe62",
   "metadata": {},
   "outputs": [
    {
     "data": {
      "text/plain": [
       "Nachname\n",
       "Cohn           164\n",
       "Wolff           90\n",
       "Hirsch          73\n",
       "Lewin           69\n",
       "Levy            67\n",
       "Rosenthal       66\n",
       "Meyer           64\n",
       "Schlesinger     43\n",
       "Blumenthal      41\n",
       "Goldstein       40\n",
       "Name: count, dtype: int64"
      ]
     },
     "execution_count": 16,
     "metadata": {},
     "output_type": "execute_result"
    }
   ],
   "source": [
    "## Most common surname\n",
    "df['Nachname'].value_counts().head(10)"
   ]
  },
  {
   "cell_type": "code",
   "execution_count": null,
   "id": "b0927eeb-845b-4d32-a956-ec8fbb8f30dc",
   "metadata": {},
   "outputs": [],
   "source": []
  }
 ],
 "metadata": {
  "kernelspec": {
   "display_name": "Python 3 (ipykernel)",
   "language": "python",
   "name": "python3"
  },
  "language_info": {
   "codemirror_mode": {
    "name": "ipython",
    "version": 3
   },
   "file_extension": ".py",
   "mimetype": "text/x-python",
   "name": "python",
   "nbconvert_exporter": "python",
   "pygments_lexer": "ipython3",
   "version": "3.11.8"
  }
 },
 "nbformat": 4,
 "nbformat_minor": 5
}
